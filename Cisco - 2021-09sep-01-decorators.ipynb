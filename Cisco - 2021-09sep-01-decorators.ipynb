{
 "cells": [
  {
   "cell_type": "markdown",
   "metadata": {},
   "source": [
    "# Agenda: Intro to decorators\n",
    "\n",
    "1. What are decorators?\n",
    "2. Decorating functions\n",
    "3. Outer functions and decorators"
   ]
  },
  {
   "cell_type": "code",
   "execution_count": 1,
   "metadata": {},
   "outputs": [
    {
     "name": "stdout",
     "output_type": "stream",
     "text": [
      "a\n",
      "\n",
      "b\n",
      "\n"
     ]
    }
   ],
   "source": [
    "def a():\n",
    "    return f'a\\n'\n",
    "\n",
    "def b():\n",
    "    return f'b\\n'\n",
    "\n",
    "print(a())\n",
    "print(b())"
   ]
  },
  {
   "cell_type": "code",
   "execution_count": 5,
   "metadata": {},
   "outputs": [
    {
     "name": "stdout",
     "output_type": "stream",
     "text": [
      "------------------------------------------------------------\n",
      "a\n",
      "------------------------------------------------------------\n",
      "\n",
      "------------------------------------------------------------\n",
      "b\n",
      "------------------------------------------------------------\n",
      "\n"
     ]
    }
   ],
   "source": [
    "# what if there's a new specification -- or a new demand from our customers\n",
    "# all output needs to have a dashed line both before and after its output\n",
    "\n",
    "lines = '-' * 60 + '\\n'\n",
    "\n",
    "def a():\n",
    "    return f'{lines}a\\n{lines}'\n",
    "\n",
    "def b():\n",
    "    return f'{lines}b\\n{lines}'\n",
    "\n",
    "print(a())\n",
    "print(b())"
   ]
  },
  {
   "cell_type": "markdown",
   "metadata": {},
   "source": [
    "# What's the problem?\n",
    "\n",
    "We need to DRY up our code.  DRY (don't repeat yourself)\n",
    "\n",
    "This means that we have to change every single one of our functions.  Each function is going to be changed in precisely the same way. Moreover, if the specifications change again, we'll need to change each of our functions **again**.  This is a huge waste of time and energy and effort.\n",
    "\n",
    "So, what can we do?"
   ]
  },
  {
   "cell_type": "code",
   "execution_count": 6,
   "metadata": {},
   "outputs": [
    {
     "name": "stdout",
     "output_type": "stream",
     "text": [
      "------------------------------------------------------------\n",
      "a\n",
      "------------------------------------------------------------\n",
      "\n",
      "------------------------------------------------------------\n",
      "b\n",
      "------------------------------------------------------------\n",
      "\n"
     ]
    }
   ],
   "source": [
    "# Remember that functions in Python are objects, just like every other object.\n",
    "# We can pass a function as an argument to another function.\n",
    "\n",
    "lines = '-' * 60 + '\\n'\n",
    "\n",
    "def with_lines(func):   # func is a function passed to with_lines\n",
    "    return f'{lines}{func()}{lines}'\n",
    "\n",
    "def a():\n",
    "    return f'a\\n'\n",
    "\n",
    "def b():\n",
    "    return f'b\\n'\n",
    "\n",
    "print(with_lines(a))\n",
    "print(with_lines(b))"
   ]
  },
  {
   "cell_type": "markdown",
   "metadata": {},
   "source": [
    "# Inner functions!\n",
    "\n",
    "Remember:\n",
    "\n",
    "- Functions are objects, and can thus be passed as arguments to other functions, and can also be returned by functions\n",
    "- If we define a variable inside of a function, it is a local variable in that function.\n",
    "- `def` defines a variable (as well as creating a function object)."
   ]
  },
  {
   "cell_type": "code",
   "execution_count": 7,
   "metadata": {},
   "outputs": [],
   "source": [
    "# Putting all of this together, we can say:\n",
    "\n",
    "def outer():\n",
    "    def inner():\n",
    "        return 'I am in inner!'\n",
    "    return inner\n",
    "\n",
    "f = outer()"
   ]
  },
  {
   "cell_type": "code",
   "execution_count": 8,
   "metadata": {},
   "outputs": [
    {
     "data": {
      "text/plain": [
       "<function __main__.outer.<locals>.inner()>"
      ]
     },
     "execution_count": 8,
     "metadata": {},
     "output_type": "execute_result"
    }
   ],
   "source": [
    "f"
   ]
  },
  {
   "cell_type": "code",
   "execution_count": 9,
   "metadata": {},
   "outputs": [
    {
     "data": {
      "text/plain": [
       "'I am in inner!'"
      ]
     },
     "execution_count": 9,
     "metadata": {},
     "output_type": "execute_result"
    }
   ],
   "source": [
    "f()"
   ]
  },
  {
   "cell_type": "code",
   "execution_count": 10,
   "metadata": {},
   "outputs": [
    {
     "data": {
      "text/plain": [
       "'I am in inner, x=10 and y=5!'"
      ]
     },
     "execution_count": 10,
     "metadata": {},
     "output_type": "execute_result"
    }
   ],
   "source": [
    "def outer(x):\n",
    "    def inner(y):\n",
    "        return f'I am in inner, {x=} and {y=}!'  # shows variable name + value\n",
    "    return inner\n",
    "\n",
    "f = outer(10)\n",
    "f(5)"
   ]
  },
  {
   "cell_type": "code",
   "execution_count": 11,
   "metadata": {},
   "outputs": [
    {
     "data": {
      "text/plain": [
       "'I am in inner, x=10 and y=6!'"
      ]
     },
     "execution_count": 11,
     "metadata": {},
     "output_type": "execute_result"
    }
   ],
   "source": [
    "f(6)"
   ]
  },
  {
   "cell_type": "code",
   "execution_count": 12,
   "metadata": {},
   "outputs": [
    {
     "data": {
      "text/plain": [
       "'I am in inner, x=20 and y=5!'"
      ]
     },
     "execution_count": 12,
     "metadata": {},
     "output_type": "execute_result"
    }
   ],
   "source": [
    "g = outer(20)\n",
    "g(5)"
   ]
  },
  {
   "cell_type": "code",
   "execution_count": 13,
   "metadata": {},
   "outputs": [
    {
     "name": "stdout",
     "output_type": "stream",
     "text": [
      "------------------------------------------------------------\n",
      "a\n",
      "------------------------------------------------------------\n",
      "\n",
      "------------------------------------------------------------\n",
      "b\n",
      "------------------------------------------------------------\n",
      "\n"
     ]
    }
   ],
   "source": [
    "# let's redefine with_lines such that it returns not a string, but a FUNCTION\n",
    "\n",
    "lines = '-' * 60 + '\\n'\n",
    "\n",
    "def with_lines(func):   # func is a function passed to with_lines\n",
    "    def wrapper():\n",
    "        return f'{lines}{func()}{lines}'\n",
    "    return wrapper\n",
    "\n",
    "def a():\n",
    "    return f'a\\n'\n",
    "\n",
    "# three functions:\n",
    "# (1) original a, a function that we defined\n",
    "# (2) with_lines, a function that we defined\n",
    "# (3) the new a, which is the result of calling with_lines(a), the value being wrapper -- the inner from with_lines\n",
    "\n",
    "a = with_lines(a)    # when we call a now, we're really calling wrapper, defined when func is (the original) a\n",
    "\n",
    "def b():\n",
    "    return f'b\\n'\n",
    "b = with_lines(b)  # when we call b, we're really calling wrapper, defined when func is (the original) b\n",
    "\n",
    "print(a())\n",
    "print(b())"
   ]
  },
  {
   "cell_type": "code",
   "execution_count": 14,
   "metadata": {},
   "outputs": [
    {
     "name": "stdout",
     "output_type": "stream",
     "text": [
      "------------------------------------------------------------\n",
      "a\n",
      "------------------------------------------------------------\n",
      "\n",
      "------------------------------------------------------------\n",
      "b\n",
      "------------------------------------------------------------\n",
      "\n"
     ]
    }
   ],
   "source": [
    "# let's redefine with_lines such that it returns not a string, but a FUNCTION\n",
    "\n",
    "lines = '-' * 60 + '\\n'\n",
    "\n",
    "def with_lines(func):   # func is a function passed to with_lines\n",
    "    def wrapper():\n",
    "        return f'{lines}{func()}{lines}'\n",
    "    return wrapper\n",
    "\n",
    "@with_lines   # exactly the same as \"a = with_lines(a)\", if put after \"def a\"\n",
    "def a():\n",
    "    return f'a\\n'\n",
    "\n",
    "@with_lines\n",
    "def b():\n",
    "    return f'b\\n'\n",
    "\n",
    "print(a())\n",
    "print(b())"
   ]
  },
  {
   "cell_type": "code",
   "execution_count": 18,
   "metadata": {},
   "outputs": [
    {
     "name": "stdout",
     "output_type": "stream",
     "text": [
      "------------------------------------------------------------\n",
      "a\n",
      "------------------------------------------------------------\n",
      "\n",
      "------------------------------------------------------------\n",
      "b\n",
      "------------------------------------------------------------\n",
      "\n",
      "------------------------------------------------------------\n",
      "8------------------------------------------------------------\n",
      "\n"
     ]
    }
   ],
   "source": [
    "# let's redefine with_lines such that it returns not a string, but a FUNCTION\n",
    "\n",
    "lines = '-' * 60 + '\\n'\n",
    "\n",
    "def with_lines(func):   # func is a function passed to with_lines\n",
    "    def wrapper(*args):  # capture all positional args in args\n",
    "        return f'{lines}{func(*args)}{lines}'   # pass along any positional arguments to func\n",
    "    return wrapper\n",
    "\n",
    "@with_lines   # exactly the same as \"a = with_lines(a)\", if put after \"def a\"\n",
    "def a():\n",
    "    return f'a\\n'\n",
    "\n",
    "@with_lines\n",
    "def b():\n",
    "    return f'b\\n'\n",
    "\n",
    "@with_lines\n",
    "def add(x, y):\n",
    "    return x + y\n",
    "\n",
    "print(a())\n",
    "print(b())\n",
    "print(add(3, 5))"
   ]
  },
  {
   "cell_type": "markdown",
   "metadata": {},
   "source": [
    "# To write a decorator\n",
    "\n",
    "1. Write an outer function that takes one argument, a function (`func`).\n",
    "2. The body of the outer function will define a new function, traditionally called `wrapper`.  \n",
    "3. `wrapper` should take `*args` as an argument.\n",
    "4. The return value from `wrapper` will replace the return value from the original (decorated) function.  It can include the orignial function's value, but it can replace it with something else or add to it or modify it.\n",
    "5. The outer function returns `wrapper`."
   ]
  },
  {
   "cell_type": "markdown",
   "metadata": {},
   "source": [
    "# Where might we use a decorator?\n",
    "\n",
    "- Redirect `stdout` (or `stderr`) for logging to a file\n",
    "- Check permissions before running a function\n",
    "- Check the time/date before running a function\n",
    "- Check the timing of a function's execution, and log it\n",
    "- Transform arguments before passing them to a function\n",
    "- Transform outputs before returning them from a function"
   ]
  },
  {
   "cell_type": "markdown",
   "metadata": {},
   "source": [
    "# Exercise: Timing decorator\n",
    "\n",
    "1. Write two functions, `add` and `mul`, that add and multiply numbers. \n",
    "2. Write a decorator, `timefunc`, which will run a decorated function, and will return the original value.  So the decorator won't interfere with the arguments or the return values.\n",
    "3. The decorator will, however, check how long it takes to run the function.  (You can call `time.time` before and after the function call to get the number of seconds since 1 Jan 1970, and compare.)\n",
    "4. Each time you call a function, write to a file, `timelog.txt`, the name of the function, and how long it took to run.  (You can get the function's name from its `__name__` attribute.)\n",
    "\n",
    "Example:\n",
    "\n",
    "```python\n",
    "print(add(2, 2))\n",
    "print(mul(3, 5))\n",
    "```\n",
    "\n",
    "After that, we should see in our file, `timelog.txt`:\n",
    "\n",
    "    add   0.123\n",
    "    mul   0.234\n",
    "    \n"
   ]
  },
  {
   "cell_type": "code",
   "execution_count": null,
   "metadata": {},
   "outputs": [],
   "source": []
  }
 ],
 "metadata": {
  "kernelspec": {
   "display_name": "Python 3",
   "language": "python",
   "name": "python3"
  },
  "language_info": {
   "codemirror_mode": {
    "name": "ipython",
    "version": 3
   },
   "file_extension": ".py",
   "mimetype": "text/x-python",
   "name": "python",
   "nbconvert_exporter": "python",
   "pygments_lexer": "ipython3",
   "version": "3.9.6"
  }
 },
 "nbformat": 4,
 "nbformat_minor": 4
}
