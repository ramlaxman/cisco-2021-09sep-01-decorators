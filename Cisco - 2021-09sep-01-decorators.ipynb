{
 "cells": [
  {
   "cell_type": "markdown",
   "metadata": {},
   "source": [
    "# Agenda: Intro to decorators\n",
    "\n",
    "1. What are decorators?\n",
    "2. Decorating functions\n",
    "3. Outer functions and decorators"
   ]
  },
  {
   "cell_type": "code",
   "execution_count": 1,
   "metadata": {},
   "outputs": [
    {
     "name": "stdout",
     "output_type": "stream",
     "text": [
      "a\n",
      "\n",
      "b\n",
      "\n"
     ]
    }
   ],
   "source": [
    "def a():\n",
    "    return f'a\\n'\n",
    "\n",
    "def b():\n",
    "    return f'b\\n'\n",
    "\n",
    "print(a())\n",
    "print(b())"
   ]
  },
  {
   "cell_type": "code",
   "execution_count": 5,
   "metadata": {},
   "outputs": [
    {
     "name": "stdout",
     "output_type": "stream",
     "text": [
      "------------------------------------------------------------\n",
      "a\n",
      "------------------------------------------------------------\n",
      "\n",
      "------------------------------------------------------------\n",
      "b\n",
      "------------------------------------------------------------\n",
      "\n"
     ]
    }
   ],
   "source": [
    "# what if there's a new specification -- or a new demand from our customers\n",
    "# all output needs to have a dashed line both before and after its output\n",
    "\n",
    "lines = '-' * 60 + '\\n'\n",
    "\n",
    "def a():\n",
    "    return f'{lines}a\\n{lines}'\n",
    "\n",
    "def b():\n",
    "    return f'{lines}b\\n{lines}'\n",
    "\n",
    "print(a())\n",
    "print(b())"
   ]
  },
  {
   "cell_type": "markdown",
   "metadata": {},
   "source": [
    "# What's the problem?\n",
    "\n",
    "We need to DRY up our code.  DRY (don't repeat yourself)\n",
    "\n",
    "This means that we have to change every single one of our functions.  Each function is going to be changed in precisely the same way. Moreover, if the specifications change again, we'll need to change each of our functions **again**.  This is a huge waste of time and energy and effort.\n",
    "\n",
    "So, what can we do?"
   ]
  },
  {
   "cell_type": "code",
   "execution_count": 6,
   "metadata": {},
   "outputs": [
    {
     "name": "stdout",
     "output_type": "stream",
     "text": [
      "------------------------------------------------------------\n",
      "a\n",
      "------------------------------------------------------------\n",
      "\n",
      "------------------------------------------------------------\n",
      "b\n",
      "------------------------------------------------------------\n",
      "\n"
     ]
    }
   ],
   "source": [
    "# Remember that functions in Python are objects, just like every other object.\n",
    "# We can pass a function as an argument to another function.\n",
    "\n",
    "lines = '-' * 60 + '\\n'\n",
    "\n",
    "def with_lines(func):   # func is a function passed to with_lines\n",
    "    return f'{lines}{func()}{lines}'\n",
    "\n",
    "def a():\n",
    "    return f'a\\n'\n",
    "\n",
    "def b():\n",
    "    return f'b\\n'\n",
    "\n",
    "print(with_lines(a))\n",
    "print(with_lines(b))"
   ]
  },
  {
   "cell_type": "markdown",
   "metadata": {},
   "source": [
    "# Inner functions!\n",
    "\n",
    "Remember:\n",
    "\n",
    "- Functions are objects, and can thus be passed as arguments to other functions, and can also be returned by functions\n",
    "- If we define a variable inside of a function, it is a local variable in that function.\n",
    "- `def` defines a variable (as well as creating a function object)."
   ]
  },
  {
   "cell_type": "code",
   "execution_count": 7,
   "metadata": {},
   "outputs": [],
   "source": [
    "# Putting all of this together, we can say:\n",
    "\n",
    "def outer():\n",
    "    def inner():\n",
    "        return 'I am in inner!'\n",
    "    return inner\n",
    "\n",
    "f = outer()"
   ]
  },
  {
   "cell_type": "code",
   "execution_count": 8,
   "metadata": {},
   "outputs": [
    {
     "data": {
      "text/plain": [
       "<function __main__.outer.<locals>.inner()>"
      ]
     },
     "execution_count": 8,
     "metadata": {},
     "output_type": "execute_result"
    }
   ],
   "source": [
    "f"
   ]
  },
  {
   "cell_type": "code",
   "execution_count": 9,
   "metadata": {},
   "outputs": [
    {
     "data": {
      "text/plain": [
       "'I am in inner!'"
      ]
     },
     "execution_count": 9,
     "metadata": {},
     "output_type": "execute_result"
    }
   ],
   "source": [
    "f()"
   ]
  },
  {
   "cell_type": "code",
   "execution_count": 10,
   "metadata": {},
   "outputs": [
    {
     "data": {
      "text/plain": [
       "'I am in inner, x=10 and y=5!'"
      ]
     },
     "execution_count": 10,
     "metadata": {},
     "output_type": "execute_result"
    }
   ],
   "source": [
    "def outer(x):\n",
    "    def inner(y):\n",
    "        return f'I am in inner, {x=} and {y=}!'  # shows variable name + value\n",
    "    return inner\n",
    "\n",
    "f = outer(10)\n",
    "f(5)"
   ]
  },
  {
   "cell_type": "code",
   "execution_count": 11,
   "metadata": {},
   "outputs": [
    {
     "data": {
      "text/plain": [
       "'I am in inner, x=10 and y=6!'"
      ]
     },
     "execution_count": 11,
     "metadata": {},
     "output_type": "execute_result"
    }
   ],
   "source": [
    "f(6)"
   ]
  },
  {
   "cell_type": "code",
   "execution_count": 12,
   "metadata": {},
   "outputs": [
    {
     "data": {
      "text/plain": [
       "'I am in inner, x=20 and y=5!'"
      ]
     },
     "execution_count": 12,
     "metadata": {},
     "output_type": "execute_result"
    }
   ],
   "source": [
    "g = outer(20)\n",
    "g(5)"
   ]
  },
  {
   "cell_type": "code",
   "execution_count": 13,
   "metadata": {},
   "outputs": [
    {
     "name": "stdout",
     "output_type": "stream",
     "text": [
      "------------------------------------------------------------\n",
      "a\n",
      "------------------------------------------------------------\n",
      "\n",
      "------------------------------------------------------------\n",
      "b\n",
      "------------------------------------------------------------\n",
      "\n"
     ]
    }
   ],
   "source": [
    "# let's redefine with_lines such that it returns not a string, but a FUNCTION\n",
    "\n",
    "lines = '-' * 60 + '\\n'\n",
    "\n",
    "def with_lines(func):   # func is a function passed to with_lines\n",
    "    def wrapper():\n",
    "        return f'{lines}{func()}{lines}'\n",
    "    return wrapper\n",
    "\n",
    "def a():\n",
    "    return f'a\\n'\n",
    "\n",
    "# three functions:\n",
    "# (1) original a, a function that we defined\n",
    "# (2) with_lines, a function that we defined\n",
    "# (3) the new a, which is the result of calling with_lines(a), the value being wrapper -- the inner from with_lines\n",
    "\n",
    "a = with_lines(a)    # when we call a now, we're really calling wrapper, defined when func is (the original) a\n",
    "\n",
    "def b():\n",
    "    return f'b\\n'\n",
    "b = with_lines(b)  # when we call b, we're really calling wrapper, defined when func is (the original) b\n",
    "\n",
    "print(a())\n",
    "print(b())"
   ]
  },
  {
   "cell_type": "code",
   "execution_count": 14,
   "metadata": {},
   "outputs": [
    {
     "name": "stdout",
     "output_type": "stream",
     "text": [
      "------------------------------------------------------------\n",
      "a\n",
      "------------------------------------------------------------\n",
      "\n",
      "------------------------------------------------------------\n",
      "b\n",
      "------------------------------------------------------------\n",
      "\n"
     ]
    }
   ],
   "source": [
    "# let's redefine with_lines such that it returns not a string, but a FUNCTION\n",
    "\n",
    "lines = '-' * 60 + '\\n'\n",
    "\n",
    "def with_lines(func):   # func is a function passed to with_lines\n",
    "    def wrapper():\n",
    "        return f'{lines}{func()}{lines}'\n",
    "    return wrapper\n",
    "\n",
    "@with_lines   # exactly the same as \"a = with_lines(a)\", if put after \"def a\"\n",
    "def a():\n",
    "    return f'a\\n'\n",
    "\n",
    "@with_lines\n",
    "def b():\n",
    "    return f'b\\n'\n",
    "\n",
    "print(a())\n",
    "print(b())"
   ]
  },
  {
   "cell_type": "code",
   "execution_count": 18,
   "metadata": {},
   "outputs": [
    {
     "name": "stdout",
     "output_type": "stream",
     "text": [
      "------------------------------------------------------------\n",
      "a\n",
      "------------------------------------------------------------\n",
      "\n",
      "------------------------------------------------------------\n",
      "b\n",
      "------------------------------------------------------------\n",
      "\n",
      "------------------------------------------------------------\n",
      "8------------------------------------------------------------\n",
      "\n"
     ]
    }
   ],
   "source": [
    "# let's redefine with_lines such that it returns not a string, but a FUNCTION\n",
    "\n",
    "lines = '-' * 60 + '\\n'\n",
    "\n",
    "def with_lines(func):   # func is a function passed to with_lines\n",
    "    def wrapper(*args):  # capture all positional args in args\n",
    "        return f'{lines}{func(*args)}{lines}'   # pass along any positional arguments to func\n",
    "    return wrapper\n",
    "\n",
    "@with_lines   # exactly the same as \"a = with_lines(a)\", if put after \"def a\"\n",
    "def a():\n",
    "    return f'a\\n'\n",
    "\n",
    "@with_lines\n",
    "def b():\n",
    "    return f'b\\n'\n",
    "\n",
    "@with_lines\n",
    "def add(x, y):\n",
    "    return x + y\n",
    "\n",
    "print(a())\n",
    "print(b())\n",
    "print(add(3, 5))"
   ]
  },
  {
   "cell_type": "markdown",
   "metadata": {},
   "source": [
    "# To write a decorator\n",
    "\n",
    "1. Write an outer function that takes one argument, a function (`func`).\n",
    "2. The body of the outer function will define a new function, traditionally called `wrapper`.  \n",
    "3. `wrapper` should take `*args` as an argument.\n",
    "4. The return value from `wrapper` will replace the return value from the original (decorated) function.  It can include the orignial function's value, but it can replace it with something else or add to it or modify it.\n",
    "5. The outer function returns `wrapper`."
   ]
  },
  {
   "cell_type": "markdown",
   "metadata": {},
   "source": [
    "# Where might we use a decorator?\n",
    "\n",
    "- Redirect `stdout` (or `stderr`) for logging to a file\n",
    "- Check permissions before running a function\n",
    "- Check the time/date before running a function\n",
    "- Check the timing of a function's execution, and log it\n",
    "- Transform arguments before passing them to a function\n",
    "- Transform outputs before returning them from a function"
   ]
  },
  {
   "cell_type": "markdown",
   "metadata": {},
   "source": [
    "# Exercise: Timing decorator\n",
    "\n",
    "1. Write two functions, `add` and `mul`, that add and multiply numbers. \n",
    "2. Write a decorator, `timefunc`, which will run a decorated function, and will return the original value.  So the decorator won't interfere with the arguments or the return values.\n",
    "3. The decorator will, however, check how long it takes to run the function.  (You can call `time.time` before and after the function call to get the number of seconds since 1 Jan 1970, and compare.)\n",
    "4. Each time you call a function, write to a file, `timelog.txt`, the name of the function, and how long it took to run.  (You can get the function's name from its `__name__` attribute.)\n",
    "\n",
    "Example:\n",
    "\n",
    "```python\n",
    "print(add(2, 2))\n",
    "print(mul(3, 5))\n",
    "```\n",
    "\n",
    "After that, we should see in our file, `timelog.txt`:\n",
    "\n",
    "    add   0.123\n",
    "    mul   0.234\n",
    "    \n"
   ]
  },
  {
   "cell_type": "code",
   "execution_count": 19,
   "metadata": {},
   "outputs": [
    {
     "name": "stdout",
     "output_type": "stream",
     "text": [
      "5\n",
      "8\n",
      "130\n",
      "528\n"
     ]
    }
   ],
   "source": [
    "def timefunc(func):          # get a function as an argument -- the decorated function\n",
    "    def wrapper(*args):      # define our inner function, accepting any number of arguments\n",
    "        return func(*args)   # call the orignial function with *args and return its value\n",
    "    return wrapper\n",
    "\n",
    "@timefunc\n",
    "def add(x,y):\n",
    "    return x + y\n",
    "\n",
    "@timefunc\n",
    "def mul(x, y):\n",
    "    return x + y\n",
    "\n",
    "print(add(2, 3))\n",
    "print(mul(3, 5))\n",
    "print(add(10, 120))\n",
    "print(mul(500, 28))"
   ]
  },
  {
   "cell_type": "code",
   "execution_count": 20,
   "metadata": {},
   "outputs": [
    {
     "name": "stdout",
     "output_type": "stream",
     "text": [
      "5\n",
      "8\n",
      "130\n",
      "528\n"
     ]
    }
   ],
   "source": [
    "import time\n",
    "\n",
    "def timefunc(func):          # get a function as an argument -- the decorated function\n",
    "    def wrapper(*args):      # define our inner function, accepting any number of arguments\n",
    "        start_time = time.time()\n",
    "        value = func(*args)   # call the orignial function with *args and return its value\n",
    "        total_time = time.time() - start_time\n",
    "        \n",
    "        return value\n",
    "    return wrapper\n",
    "\n",
    "@timefunc\n",
    "def add(x,y):\n",
    "    return x + y\n",
    "\n",
    "@timefunc\n",
    "def mul(x, y):\n",
    "    return x + y\n",
    "\n",
    "print(add(2, 3))\n",
    "print(mul(3, 5))\n",
    "print(add(10, 120))\n",
    "print(mul(500, 28))"
   ]
  },
  {
   "cell_type": "code",
   "execution_count": 23,
   "metadata": {},
   "outputs": [
    {
     "name": "stdout",
     "output_type": "stream",
     "text": [
      "5\n",
      "8\n",
      "130\n",
      "528\n"
     ]
    }
   ],
   "source": [
    "import time\n",
    "\n",
    "def timefunc(func):          # get a function as an argument -- the decorated function\n",
    "    def wrapper(*args):      # define our inner function, accepting any number of arguments\n",
    "        start_time = time.time()\n",
    "        value = func(*args)   # call the orignial function with *args and return its value\n",
    "        total_time = time.time() - start_time\n",
    "        \n",
    "        with open('timelog.txt', 'a') as outfile:\n",
    "            outfile.write(f'{func.__name__}\\t{total_time}\\n')\n",
    "\n",
    "        return value\n",
    "    return wrapper\n",
    "\n",
    "@timefunc\n",
    "def add(x,y):\n",
    "    return x + y\n",
    "\n",
    "@timefunc\n",
    "def mul(x, y):\n",
    "    return x + y\n",
    "\n",
    "print(add(2, 3))\n",
    "print(mul(3, 5))\n",
    "print(add(10, 120))\n",
    "print(mul(500, 28))"
   ]
  },
  {
   "cell_type": "code",
   "execution_count": 24,
   "metadata": {},
   "outputs": [
    {
     "name": "stdout",
     "output_type": "stream",
     "text": [
      "add\t0.0\r\n",
      "mul\t0.0\r\n",
      "add\t9.5367431640625e-07\r\n",
      "mul\t0.0\r\n",
      "add\t0.0\r\n",
      "mul\t7.152557373046875e-07\r\n",
      "add\t9.5367431640625e-07\r\n",
      "mul\t0.0\r\n"
     ]
    }
   ],
   "source": [
    "!cat timelog.txt"
   ]
  },
  {
   "cell_type": "markdown",
   "metadata": {},
   "source": [
    "# Limiting runs: Once per minute\n",
    "\n",
    "Let's say that we have functions which are resource intensive, and we don't want to run them more than once per minute.  That is: We need to wait at least 60 seconds between calls to a given function.  If we call the function more often than once per minute, we should get an exception."
   ]
  },
  {
   "cell_type": "code",
   "execution_count": 28,
   "metadata": {},
   "outputs": [
    {
     "name": "stdout",
     "output_type": "stream",
     "text": [
      "5\n",
      "8\n"
     ]
    },
    {
     "ename": "CalledTooOftenError",
     "evalue": "You need to wait 49.99317002296448 seconds",
     "output_type": "error",
     "traceback": [
      "\u001b[0;31m---------------------------------------------------------------------------\u001b[0m",
      "\u001b[0;31mCalledTooOftenError\u001b[0m                       Traceback (most recent call last)",
      "\u001b[0;32m<ipython-input-28-4937969934a9>\u001b[0m in \u001b[0;36m<module>\u001b[0;34m\u001b[0m\n\u001b[1;32m     32\u001b[0m \u001b[0mprint\u001b[0m\u001b[0;34m(\u001b[0m\u001b[0madd\u001b[0m\u001b[0;34m(\u001b[0m\u001b[0;36m2\u001b[0m\u001b[0;34m,\u001b[0m \u001b[0;36m3\u001b[0m\u001b[0;34m)\u001b[0m\u001b[0;34m)\u001b[0m\u001b[0;34m\u001b[0m\u001b[0;34m\u001b[0m\u001b[0m\n\u001b[1;32m     33\u001b[0m \u001b[0mprint\u001b[0m\u001b[0;34m(\u001b[0m\u001b[0mmul\u001b[0m\u001b[0;34m(\u001b[0m\u001b[0;36m3\u001b[0m\u001b[0;34m,\u001b[0m \u001b[0;36m5\u001b[0m\u001b[0;34m)\u001b[0m\u001b[0;34m)\u001b[0m\u001b[0;34m\u001b[0m\u001b[0;34m\u001b[0m\u001b[0m\n\u001b[0;32m---> 34\u001b[0;31m \u001b[0mprint\u001b[0m\u001b[0;34m(\u001b[0m\u001b[0madd\u001b[0m\u001b[0;34m(\u001b[0m\u001b[0;36m10\u001b[0m\u001b[0;34m,\u001b[0m \u001b[0;36m120\u001b[0m\u001b[0;34m)\u001b[0m\u001b[0;34m)\u001b[0m\u001b[0;34m\u001b[0m\u001b[0;34m\u001b[0m\u001b[0m\n\u001b[0m\u001b[1;32m     35\u001b[0m \u001b[0mprint\u001b[0m\u001b[0;34m(\u001b[0m\u001b[0mmul\u001b[0m\u001b[0;34m(\u001b[0m\u001b[0;36m500\u001b[0m\u001b[0;34m,\u001b[0m \u001b[0;36m28\u001b[0m\u001b[0;34m)\u001b[0m\u001b[0;34m)\u001b[0m\u001b[0;34m\u001b[0m\u001b[0;34m\u001b[0m\u001b[0m\n",
      "\u001b[0;32m<ipython-input-28-4937969934a9>\u001b[0m in \u001b[0;36mwrapper\u001b[0;34m(*args)\u001b[0m\n\u001b[1;32m     13\u001b[0m \u001b[0;34m\u001b[0m\u001b[0m\n\u001b[1;32m     14\u001b[0m         \u001b[0;32mif\u001b[0m \u001b[0mcurrent_time\u001b[0m \u001b[0;34m-\u001b[0m \u001b[0mmost_recent_start_time\u001b[0m \u001b[0;34m<\u001b[0m \u001b[0;36m60\u001b[0m\u001b[0;34m:\u001b[0m\u001b[0;34m\u001b[0m\u001b[0;34m\u001b[0m\u001b[0m\n\u001b[0;32m---> 15\u001b[0;31m             \u001b[0;32mraise\u001b[0m \u001b[0mCalledTooOftenError\u001b[0m\u001b[0;34m(\u001b[0m\u001b[0;34mf'You need to wait {60 - (current_time - most_recent_start_time)} seconds'\u001b[0m\u001b[0;34m)\u001b[0m\u001b[0;34m\u001b[0m\u001b[0;34m\u001b[0m\u001b[0m\n\u001b[0m\u001b[1;32m     16\u001b[0m \u001b[0;34m\u001b[0m\u001b[0m\n\u001b[1;32m     17\u001b[0m         \u001b[0mmost_recent_start_time\u001b[0m \u001b[0;34m=\u001b[0m \u001b[0mcurrent_time\u001b[0m\u001b[0;34m\u001b[0m\u001b[0;34m\u001b[0m\u001b[0m\n",
      "\u001b[0;31mCalledTooOftenError\u001b[0m: You need to wait 49.99317002296448 seconds"
     ]
    }
   ],
   "source": [
    "import time\n",
    "import random\n",
    "\n",
    "class CalledTooOftenError(Exception):\n",
    "    pass\n",
    "\n",
    "def once_per_minute(func):\n",
    "    most_recent_start_time = 0\n",
    "\n",
    "    def wrapper(*args):\n",
    "        nonlocal most_recent_start_time   # meaning: we want to modify this enclosing function's variable\n",
    "        current_time = time.time()\n",
    "        \n",
    "        if current_time - most_recent_start_time < 60:\n",
    "            raise CalledTooOftenError(f'You need to wait {60 - (current_time - most_recent_start_time)} seconds')\n",
    "            \n",
    "        most_recent_start_time = current_time\n",
    "        \n",
    "        return func(*args)\n",
    "    return wrapper\n",
    "\n",
    "@once_per_minute\n",
    "def add(x,y):\n",
    "    time.sleep(random.randint(0, 5))\n",
    "    return x + y\n",
    "\n",
    "@once_per_minute\n",
    "def mul(x, y):\n",
    "    time.sleep(random.randint(0, 5))\n",
    "    return x + y\n",
    "\n",
    "print(add(2, 3))\n",
    "print(mul(3, 5))\n",
    "print(add(10, 120))\n",
    "print(mul(500, 28))"
   ]
  },
  {
   "cell_type": "code",
   "execution_count": null,
   "metadata": {},
   "outputs": [],
   "source": []
  }
 ],
 "metadata": {
  "kernelspec": {
   "display_name": "Python 3",
   "language": "python",
   "name": "python3"
  },
  "language_info": {
   "codemirror_mode": {
    "name": "ipython",
    "version": 3
   },
   "file_extension": ".py",
   "mimetype": "text/x-python",
   "name": "python",
   "nbconvert_exporter": "python",
   "pygments_lexer": "ipython3",
   "version": "3.9.6"
  }
 },
 "nbformat": 4,
 "nbformat_minor": 4
}
